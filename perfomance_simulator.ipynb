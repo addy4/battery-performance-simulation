{
  "nbformat": 4,
  "nbformat_minor": 0,
  "metadata": {
    "colab": {
      "provenance": [],
      "authorship_tag": "ABX9TyP/JmApOK936MqQchNae0mQ",
      "include_colab_link": true
    },
    "kernelspec": {
      "name": "python3",
      "display_name": "Python 3"
    },
    "language_info": {
      "name": "python"
    }
  },
  "cells": [
    {
      "cell_type": "markdown",
      "metadata": {
        "id": "view-in-github",
        "colab_type": "text"
      },
      "source": [
        "<a href=\"https://colab.research.google.com/github/addy4/battery-performance-simulation/blob/main/perfomance_simulator.ipynb\" target=\"_parent\"><img src=\"https://colab.research.google.com/assets/colab-badge.svg\" alt=\"Open In Colab\"/></a>"
      ]
    },
    {
      "cell_type": "markdown",
      "source": [
        "Battery perfomance simulation based on hybrid approach of\n",
        "1. Mathematical Model (Based on Electrochemical Nature of Cell)\n",
        "2. Neural-Networks (Based on Data consisting of battery's state parameters)"
      ],
      "metadata": {
        "id": "G66PLKZO1-gO"
      }
    },
    {
      "cell_type": "markdown",
      "source": [
        "For this PoC, we have considered a Lithium-IoN battery which is used extensively in Electric Vehicles."
      ],
      "metadata": {
        "id": "rfac0SWD2atU"
      }
    },
    {
      "cell_type": "code",
      "source": [],
      "metadata": {
        "id": "tLYkvmIZ5c4R"
      },
      "execution_count": null,
      "outputs": []
    }
  ]
}